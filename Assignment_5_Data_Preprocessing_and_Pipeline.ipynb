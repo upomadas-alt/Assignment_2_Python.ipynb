{
  "nbformat": 4,
  "nbformat_minor": 0,
  "metadata": {
    "colab": {
      "provenance": [],
      "include_colab_link": true
    },
    "kernelspec": {
      "name": "python3",
      "display_name": "Python 3"
    },
    "language_info": {
      "name": "python"
    }
  },
  "cells": [
    {
      "cell_type": "markdown",
      "metadata": {
        "id": "view-in-github",
        "colab_type": "text"
      },
      "source": [
        "<a href=\"https://colab.research.google.com/github/upomadas-alt/Assignment_2_Python.ipynb/blob/main/Assignment_5_Data_Preprocessing_and_Pipeline.ipynb\" target=\"_parent\"><img src=\"https://colab.research.google.com/assets/colab-badge.svg\" alt=\"Open In Colab\"/></a>"
      ]
    },
    {
      "cell_type": "code",
      "source": [
        "from google.colab import drive\n",
        "drive.mount('/content/drive')\n",
        "import warnings\n",
        "warnings.filterwarnings('ignore')"
      ],
      "metadata": {
        "colab": {
          "base_uri": "https://localhost:8080/"
        },
        "id": "wCcuzcwYiGkg",
        "outputId": "3d57c552-f9b3-40dd-9ade-f53c263a7229"
      },
      "execution_count": 4,
      "outputs": [
        {
          "output_type": "stream",
          "name": "stdout",
          "text": [
            "Mounted at /content/drive\n"
          ]
        }
      ]
    },
    {
      "cell_type": "code",
      "execution_count": 8,
      "metadata": {
        "id": "kxzHrZ-S1J5-",
        "colab": {
          "base_uri": "https://localhost:8080/"
        },
        "outputId": "ec57de39-6e4b-49f4-b1ce-be1a1474ee8c"
      },
      "outputs": [
        {
          "output_type": "stream",
          "name": "stdout",
          "text": [
            "Number of houses: 545\n",
            "\n",
            "First 3 houses:\n",
            "      price  area  bedrooms  bathrooms  stories mainroad guestroom basement  \\\n",
            "0  13300000  7420         4          2        3      yes        no       no   \n",
            "1  12250000  8960         4          4        4      yes        no       no   \n",
            "2  12250000  9960         3          2        2      yes        no      yes   \n",
            "\n",
            "  hotwaterheating airconditioning  parking prefarea furnishingstatus  \n",
            "0              no             yes        2      yes        furnished  \n",
            "1              no             yes        3       no        furnished  \n",
            "2              no              no        2      yes   semi-furnished  \n"
          ]
        }
      ],
      "source": [
        "#Load the Data\n",
        "import pandas as pd\n",
        "import numpy as np\n",
        "from sklearn.model_selection import train_test_split\n",
        "from sklearn.preprocessing import StandardScaler\n",
        "\n",
        "# TODO: Load the housing data\n",
        "# Replace '/path/to/your/Housing.csv' with the actual path to your file\n",
        "df = pd.read_csv('/content/drive/MyDrive/Datasets/Housing.csv')\n",
        "\n",
        "# TODO: How many houses are there?\n",
        "print(f\"Number of houses: {len(df)}\")  # Fill this\n",
        "\n",
        "# TODO: Show first 3 houses\n",
        "# Your code here\n",
        "print(\"\\nFirst 3 houses:\")\n",
        "print(df.head(3))"
      ]
    },
    {
      "cell_type": "code",
      "source": [
        "# Look at Columns\n",
        "# TODO: Show all column names\n",
        "print(\"Columns:\")\n",
        "# Your code here\n",
        "print(df.columns)\n",
        "\n",
        "# TODO: Show data types of columns\n",
        "print(\"Data types:\")\n",
        "print(df.dtypes)"
      ],
      "metadata": {
        "id": "jY6xciSB1fGX",
        "colab": {
          "base_uri": "https://localhost:8080/"
        },
        "outputId": "69db6c68-aea3-4f0c-fd6f-d447085e2042"
      },
      "execution_count": 10,
      "outputs": [
        {
          "output_type": "stream",
          "name": "stdout",
          "text": [
            "Columns:\n",
            "Index(['price', 'area', 'bedrooms', 'bathrooms', 'stories', 'mainroad',\n",
            "       'guestroom', 'basement', 'hotwaterheating', 'airconditioning',\n",
            "       'parking', 'prefarea', 'furnishingstatus'],\n",
            "      dtype='object')\n",
            "Data types:\n",
            "price                int64\n",
            "area                 int64\n",
            "bedrooms             int64\n",
            "bathrooms            int64\n",
            "stories              int64\n",
            "mainroad            object\n",
            "guestroom           object\n",
            "basement            object\n",
            "hotwaterheating     object\n",
            "airconditioning     object\n",
            "parking              int64\n",
            "prefarea            object\n",
            "furnishingstatus    object\n",
            "dtype: object\n"
          ]
        }
      ]
    },
    {
      "cell_type": "code",
      "source": [
        "#Convert Yes/No to 1/0\n",
        "# Check what's in our data\n",
        "print(\"Current mainroad values:\", df['mainroad'].head())\n",
        "# Shows: yes, no, yes, yes, no\n",
        "\n",
        "# Models need numbers, not text!\n",
        "# We need: yes → 1, no → 0\n",
        "\n",
        "# Convert Yes/No columns to 1/0\n",
        "yes_no_cols = ['mainroad', 'guestroom', 'basement', 'hotwaterheating', 'airconditioning', 'prefarea']\n",
        "for col in yes_no_cols:\n",
        "    df[col] = df[col].apply(lambda x: 1 if x == 'yes' else 0)\n",
        "\n",
        "# Display the changes (optional)\n",
        "print(\"\\nMainroad values after conversion:\", df['mainroad'].head())"
      ],
      "metadata": {
        "id": "MwB1ZgVl1plX",
        "colab": {
          "base_uri": "https://localhost:8080/"
        },
        "outputId": "2fafe901-eee4-4b0d-ab44-b2576e76d04f"
      },
      "execution_count": 11,
      "outputs": [
        {
          "output_type": "stream",
          "name": "stdout",
          "text": [
            "Current mainroad values: 0    yes\n",
            "1    yes\n",
            "2    yes\n",
            "3    yes\n",
            "4    yes\n",
            "Name: mainroad, dtype: object\n",
            "\n",
            "Mainroad values after conversion: 0    1\n",
            "1    1\n",
            "2    1\n",
            "3    1\n",
            "4    1\n",
            "Name: mainroad, dtype: int64\n"
          ]
        }
      ]
    },
    {
      "cell_type": "code",
      "source": [
        "# Split into Train and Test\n",
        "# TODO: Split - 80% train, 20% test\n",
        "df_train, df_test = train_test_split(df, train_size=0.8, random_state=100)"
      ],
      "metadata": {
        "id": "CGWFD9Do1w2J"
      },
      "execution_count": 13,
      "outputs": []
    },
    {
      "cell_type": "code",
      "source": [
        "#Apply StandardScaler\n",
        "# Area is huge (1650-13300), Bedrooms is small (1-6)!\n",
        "#Your Code here\n",
        "\n",
        "# Identify numerical columns (excluding the target variable 'price')\n",
        "numerical_cols = ['area', 'bedrooms', 'bathrooms', 'stories', 'parking']\n",
        "\n",
        "# Initialize the StandardScaler\n",
        "scaler = StandardScaler()\n",
        "\n",
        "# Fit the scaler on the training data and transform both training and test data\n",
        "df_train[numerical_cols] = scaler.fit_transform(df_train[numerical_cols])\n",
        "df_test[numerical_cols] = scaler.transform(df_test[numerical_cols])\n",
        "\n",
        "# Display the scaled data (optional)\n",
        "print(\"Scaled training data (first 5 rows):\")\n",
        "print(df_train.head())\n",
        "\n",
        "print(\"\\nScaled test data (first 5 rows):\")\n",
        "print(df_test.head())"
      ],
      "metadata": {
        "id": "ORsVWo8E18y1",
        "colab": {
          "base_uri": "https://localhost:8080/"
        },
        "outputId": "f35b28ab-6c5e-4e4b-dd65-473c412c67d7"
      },
      "execution_count": 14,
      "outputs": [
        {
          "output_type": "stream",
          "name": "stdout",
          "text": [
            "Scaled training data (first 5 rows):\n",
            "       price      area  bedrooms  bathrooms   stories  mainroad  guestroom  \\\n",
            "22   8645000  1.351873  0.078679  -0.579897 -0.929023         1          1   \n",
            "41   7840000  0.565326  0.078679   1.410929  2.474792         1          0   \n",
            "91   6419000  0.746837 -1.293483  -0.579897 -0.929023         1          1   \n",
            "118  5950000  0.593251  0.078679  -0.579897 -0.929023         1          0   \n",
            "472  3010000 -0.705249  1.450841  -0.579897  0.205582         1          0   \n",
            "\n",
            "     basement  hotwaterheating  airconditioning   parking  prefarea  \\\n",
            "22          1                0                1  0.311484         0   \n",
            "41          0                0                1 -0.849261         1   \n",
            "91          1                0                0  1.472229         1   \n",
            "118         1                0                1 -0.849261         1   \n",
            "472         0                0                0  2.632974         0   \n",
            "\n",
            "    furnishingstatus  \n",
            "22         furnished  \n",
            "41         furnished  \n",
            "91         furnished  \n",
            "118        furnished  \n",
            "472   semi-furnished  \n",
            "\n",
            "Scaled test data (first 5 rows):\n",
            "       price      area  bedrooms  bathrooms   stories  mainroad  guestroom  \\\n",
            "265  4403000 -1.054308  0.078679  -0.579897  0.205582         1          0   \n",
            "54   7350000  0.397778  0.078679   1.410929  0.205582         1          1   \n",
            "171  5250000  2.384622  0.078679  -0.579897 -0.929023         1          0   \n",
            "244  4550000  0.081298  0.078679  -0.579897  0.205582         1          1   \n",
            "268  4382000 -0.090905  1.450841  -0.579897  0.205582         1          0   \n",
            "\n",
            "     basement  hotwaterheating  airconditioning   parking  prefarea  \\\n",
            "265         0                0                0 -0.849261         1   \n",
            "54          0                0                1  0.311484         0   \n",
            "171         0                0                0  0.311484         1   \n",
            "244         1                0                0 -0.849261         1   \n",
            "268         0                0                1 -0.849261         0   \n",
            "\n",
            "    furnishingstatus  \n",
            "265   semi-furnished  \n",
            "54    semi-furnished  \n",
            "171   semi-furnished  \n",
            "244   semi-furnished  \n",
            "268   semi-furnished  \n"
          ]
        }
      ]
    },
    {
      "cell_type": "code",
      "source": [
        "#train and test model\n",
        "#your code here\n",
        "from sklearn.linear_model import LinearRegression\n",
        "from sklearn.metrics import r2_score, mean_squared_error\n",
        "\n",
        "# Separate features (X) and target (y)\n",
        "X_train = df_train.drop('price', axis=1)\n",
        "y_train = df_train['price']\n",
        "X_test = df_test.drop('price', axis=1)\n",
        "y_test = df_test['price']\n",
        "\n",
        "# Handle categorical features ('furnishingstatus')\n",
        "# We need to convert the 'furnishingstatus' column into numerical format using one-hot encoding.\n",
        "X_train = pd.get_dummies(X_train, columns=['furnishingstatus'], drop_first=True)\n",
        "X_test = pd.get_dummies(X_test, columns=['furnishingstatus'], drop_first=True)\n",
        "\n",
        "# Ensure columns match between train and test after one-hot encoding\n",
        "train_cols = X_train.columns\n",
        "test_cols = X_test.columns\n",
        "\n",
        "missing_in_test = set(train_cols) - set(test_cols)\n",
        "for c in missing_in_test:\n",
        "    X_test[c] = 0\n",
        "# Ensure the order of columns is the same\n",
        "X_test = X_test[train_cols]\n",
        "\n",
        "\n",
        "# Initialize and train the Linear Regression model\n",
        "model = LinearRegression()\n",
        "model.fit(X_train, y_train)\n",
        "\n",
        "# Make predictions on the test set\n",
        "y_pred = model.predict(X_test)\n",
        "\n",
        "# Evaluate the model\n",
        "r2 = r2_score(y_test, y_pred)\n",
        "mse = mean_squared_error(y_test, y_pred)\n",
        "\n",
        "print(f\"R-squared: {r2:.4f}\")\n",
        "print(f\"Mean Squared Error: {mse:.2f}\")"
      ],
      "metadata": {
        "id": "khBlvU-f2QnW",
        "colab": {
          "base_uri": "https://localhost:8080/"
        },
        "outputId": "cbb30cfe-6d49-4adb-b1b6-bb6d0f8835da"
      },
      "execution_count": 15,
      "outputs": [
        {
          "output_type": "stream",
          "name": "stdout",
          "text": [
            "R-squared: 0.6807\n",
            "Mean Squared Error: 1127125806714.59\n"
          ]
        }
      ]
    },
    {
      "cell_type": "code",
      "source": [
        "# Predict a House Price\n",
        "# New house details:\n",
        "# area=5000, bedrooms=3, bathrooms=2, stories=2,\n",
        "# mainroad=yes, guestroom=no, basement=yes,\n",
        "# hotwaterheating=no, airconditioning=yes,\n",
        "# parking=2, prefarea=yes, furnishingstatus=furnished\n",
        "#your code here\n",
        "\n",
        "# Create a DataFrame for the new house\n",
        "new_house_data = {\n",
        "    'area': [5000],\n",
        "    'bedrooms': [3],\n",
        "    'bathrooms': [2],\n",
        "    'stories': [2],\n",
        "    'mainroad': ['yes'],\n",
        "    'guestroom': ['no'],\n",
        "    'basement': ['yes'],\n",
        "    'hotwaterheating': ['no'],\n",
        "    'airconditioning': ['yes'],\n",
        "    'parking': [2],\n",
        "    'prefarea': ['yes'],\n",
        "    'furnishingstatus': ['furnished']\n",
        "}\n",
        "new_house_df = pd.DataFrame(new_house_data)\n",
        "\n",
        "# Apply the same preprocessing steps as the training data\n",
        "\n",
        "# 1. Convert Yes/No to 1/0\n",
        "yes_no_cols = ['mainroad', 'guestroom', 'basement', 'hotwaterheating', 'airconditioning', 'prefarea']\n",
        "for col in yes_no_cols:\n",
        "    new_house_df[col] = new_house_df[col].apply(lambda x: 1 if x == 'yes' else 0)\n",
        "\n",
        "# 2. Apply StandardScaler to numerical columns\n",
        "# Use the scaler fitted on the training data\n",
        "numerical_cols = ['area', 'bedrooms', 'bathrooms', 'stories', 'parking']\n",
        "new_house_df[numerical_cols] = scaler.transform(new_house_df[numerical_cols])\n",
        "\n",
        "# 3. Handle categorical features ('furnishingstatus') using one-hot encoding\n",
        "new_house_df = pd.get_dummies(new_house_df, columns=['furnishingstatus'], drop_first=True)\n",
        "\n",
        "# Ensure the new house DataFrame has the same columns as the training data (X_train)\n",
        "# Add missing columns with a value of 0\n",
        "missing_cols = set(X_train.columns) - set(new_house_df.columns)\n",
        "for c in missing_cols:\n",
        "    new_house_df[c] = 0\n",
        "\n",
        "# Ensure the order of columns is the same as X_train\n",
        "new_house_df = new_house_df[X_train.columns]\n",
        "\n",
        "# Predict the price\n",
        "predicted_price = model.predict(new_house_df)\n",
        "\n",
        "print(f\"Predicted price for the new house: ${predicted_price[0]:,.2f}\")"
      ],
      "metadata": {
        "id": "no5CjmoK2aHb",
        "colab": {
          "base_uri": "https://localhost:8080/"
        },
        "outputId": "ea94a205-6cf0-4d9d-cd3b-307a4f62a451"
      },
      "execution_count": 16,
      "outputs": [
        {
          "output_type": "stream",
          "name": "stdout",
          "text": [
            "Predicted price for the new house: $7,335,725.10\n"
          ]
        }
      ]
    }
  ]
}