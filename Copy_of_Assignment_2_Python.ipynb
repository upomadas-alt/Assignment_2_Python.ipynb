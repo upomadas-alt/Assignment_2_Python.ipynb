{
  "nbformat": 4,
  "nbformat_minor": 0,
  "metadata": {
    "colab": {
      "provenance": [],
      "toc_visible": true,
      "include_colab_link": true
    },
    "kernelspec": {
      "name": "python3",
      "display_name": "Python 3"
    },
    "language_info": {
      "name": "python"
    }
  },
  "cells": [
    {
      "cell_type": "markdown",
      "metadata": {
        "id": "view-in-github",
        "colab_type": "text"
      },
      "source": [
        "<a href=\"https://colab.research.google.com/github/upomadas-alt/Assignment_2_Python.ipynb/blob/main/Copy_of_Assignment_2_Python.ipynb\" target=\"_parent\"><img src=\"https://colab.research.google.com/assets/colab-badge.svg\" alt=\"Open In Colab\"/></a>"
      ]
    },
    {
      "cell_type": "markdown",
      "source": [
        "# **Introduction**"
      ],
      "metadata": {
        "id": "W_QAF1pXTYGD"
      }
    },
    {
      "cell_type": "code",
      "source": [
        "print(\"hello world\")"
      ],
      "metadata": {
        "colab": {
          "base_uri": "https://localhost:8080/"
        },
        "id": "LxCwn6LRThbx",
        "outputId": "e81eb89d-05a3-48ad-99a9-2d26dfd40553"
      },
      "execution_count": null,
      "outputs": [
        {
          "output_type": "stream",
          "name": "stdout",
          "text": [
            "hello world\n"
          ]
        }
      ]
    },
    {
      "cell_type": "markdown",
      "source": [
        "# **2.1 Create variables for your name, age, and favorite color, then print them with descriptive labels**"
      ],
      "metadata": {
        "id": "TTZyaE8GT7fK"
      }
    },
    {
      "cell_type": "code",
      "source": [
        "# Creating variables\n",
        "name = \"Upoma\"\n",
        "age = 22\n",
        "favourite_color = \"white\" # Corrected variable name\n",
        "# Printing variables\n",
        "print(\"Name:\", name)\n",
        "print(\"Age:\", age)\n",
        "print(\"favourite color\", favourite_color) # Use the variable instead of hardcoded value"
      ],
      "metadata": {
        "colab": {
          "base_uri": "https://localhost:8080/"
        },
        "id": "CaR4RWa3UAPn",
        "outputId": "4dc908fb-fee6-4196-c999-b63571b5eceb"
      },
      "execution_count": null,
      "outputs": [
        {
          "output_type": "stream",
          "name": "stdout",
          "text": [
            "Name: Upoma\n",
            "Age: 22\n",
            "favourite color white\n"
          ]
        }
      ]
    },
    {
      "cell_type": "markdown",
      "source": [
        "# **2.2.Create one variable of each type and use the type() function to verify its type**"
      ],
      "metadata": {
        "id": "eA5cpGZsd4a2"
      }
    },
    {
      "cell_type": "code",
      "source": [
        "name = \"upoma\"\n",
        "address = 'Rangpur'\n",
        "age = 22\n",
        "price = 99.99\n",
        "is_valid = True\n",
        "has_paid = False\n",
        "result = None\n",
        "print(type(name))\n",
        "print(type(age))\n",
        "print(type(price))\n",
        "print(type(is_valid))"
      ],
      "metadata": {
        "colab": {
          "base_uri": "https://localhost:8080/"
        },
        "id": "vyZ0jc1hUw8f",
        "outputId": "d29c1264-b800-49d0-c84c-4543842e8911"
      },
      "execution_count": null,
      "outputs": [
        {
          "output_type": "stream",
          "name": "stdout",
          "text": [
            "<class 'str'>\n",
            "<class 'int'>\n",
            "<class 'float'>\n",
            "<class 'bool'>\n"
          ]
        }
      ]
    },
    {
      "cell_type": "markdown",
      "source": [
        "# **2.3.Calculate the area and perimeter of a rectangle with length 7 and width 5**"
      ],
      "metadata": {
        "id": "DDoCn8PBeXZI"
      }
    },
    {
      "cell_type": "code",
      "source": [
        "# Define the length and width of the rectangle\n",
        "length = 7\n",
        "width = 5\n",
        "\n",
        "# Calculate the area\n",
        "area = 7 * 5\n",
        "\n",
        "# Calculate the perimeter\n",
        "perimeter = 2 * (7 + 5)\n",
        "\n",
        "# Print the results\n",
        "print(f\"The area of the rectangle is: {area}\")\n",
        "print(f\"The perimeter of the rectangle is: {perimeter}\")"
      ],
      "metadata": {
        "colab": {
          "base_uri": "https://localhost:8080/"
        },
        "id": "z9tYpKVRHtjD",
        "outputId": "88759b8c-a4b6-4aed-8d0e-b32e99f4db01"
      },
      "execution_count": null,
      "outputs": [
        {
          "output_type": "stream",
          "name": "stdout",
          "text": [
            "The area of the rectangle is: 35\n",
            "The perimeter of the rectangle is: 24\n"
          ]
        }
      ]
    },
    {
      "cell_type": "markdown",
      "source": [
        "## **Data Structure**"
      ],
      "metadata": {
        "id": "vq2YKKy-Jry0"
      }
    },
    {
      "cell_type": "markdown",
      "source": [
        "# **2.4.Create a list of 5 Bangladeshi foods, then access the first and last elements**"
      ],
      "metadata": {
        "id": "2FQZdmNkhSQf"
      }
    },
    {
      "cell_type": "code",
      "source": [
        "# Creating a list\n",
        "foods = [\"biriyani\", \"dal\", \"fuchka\", \"beef\", \"khichuri\"]\n",
        "# Accessing elements (indexing starts at 0)\n",
        "print(foods[0])       # biriyani\n",
        "print(foods[-1])       # khichuri"
      ],
      "metadata": {
        "colab": {
          "base_uri": "https://localhost:8080/"
        },
        "id": "scUfbWiIJvz_",
        "outputId": "13ced5e4-8093-47b8-ba36-ee276c62466c"
      },
      "execution_count": null,
      "outputs": [
        {
          "output_type": "stream",
          "name": "stdout",
          "text": [
            "biriyani\n",
            "khichuri\n"
          ]
        }
      ]
    },
    {
      "cell_type": "markdown",
      "source": [
        "# **2.5 Create a list of 5 numbers, add a new number, remove one, and then sort the list**"
      ],
      "metadata": {
        "id": "LHJflxVSjjTS"
      }
    },
    {
      "cell_type": "code",
      "source": [
        "#Adding numbers in List\n",
        "number = [\"52\", \"53\", \"54\", \"55\", \"56\"]\n",
        "number.append(\"57\")    # Add to end\n",
        "print(\"List of after adding a number(57): \",number)\n"
      ],
      "metadata": {
        "colab": {
          "base_uri": "https://localhost:8080/"
        },
        "id": "yDqL7OfJLb8v",
        "outputId": "83fc7faf-8d52-43de-f0d4-4c2ab61a64c7"
      },
      "execution_count": null,
      "outputs": [
        {
          "output_type": "stream",
          "name": "stdout",
          "text": [
            "List of after adding a number(57):  ['52', '53', '54', '55', '56', '57']\n"
          ]
        }
      ]
    },
    {
      "cell_type": "code",
      "source": [
        "#Removing numbers in List\n",
        "number.remove(\"56\")    # Remove by value\n",
        "popped = number.pop()    # Remove & return last item\n",
        "print(\"List of after remove a number(56): \",number) # [\"52\",\"53\",\"54\",\"55\",\"57\"]"
      ],
      "metadata": {
        "colab": {
          "base_uri": "https://localhost:8080/"
        },
        "id": "7HuHLSRgMB99",
        "outputId": "8b539094-7fbe-4a94-fde5-f6666fe43688"
      },
      "execution_count": null,
      "outputs": [
        {
          "output_type": "stream",
          "name": "stdout",
          "text": [
            "List of after remove a number(56):  ['52', '53', '54', '55']\n"
          ]
        }
      ]
    },
    {
      "cell_type": "code",
      "source": [
        "#organinzing list\n",
        "number.sort() # Alphabetical order\n",
        "print(\"List in ascending order: \",number)\n",
        "number.reverse() # Reverse order\n",
        "print(\"List in Descending order: \",number)"
      ],
      "metadata": {
        "colab": {
          "base_uri": "https://localhost:8080/"
        },
        "id": "bd_F1ZQfM6-i",
        "outputId": "80a6e061-1e6e-4f01-f246-86c85fc09502"
      },
      "execution_count": null,
      "outputs": [
        {
          "output_type": "stream",
          "name": "stdout",
          "text": [
            "List in ascending order:  ['52', '53', '54', '55']\n",
            "List in Descending order:  ['55', '54', '53', '52']\n"
          ]
        }
      ]
    },
    {
      "cell_type": "markdown",
      "source": [
        "# **2.6 Create a dictionary about yourself with at least 4 key-value pairs**"
      ],
      "metadata": {
        "id": "_D_CXlqorsF-"
      }
    },
    {
      "cell_type": "code",
      "source": [
        "# Creating a dictionary\n",
        "student = {\n",
        "\"name\": \"upoma\",\n",
        "\"age\": 22,\n",
        "\"university\": \"BRUR\",\n",
        "\"CGPA\" :\"3.63\"\n",
        "} # Closing the dictionary\n",
        "\n",
        "# Accessing values using keys\n",
        "print(\"Name:\", student[\"name\"])\n",
        "print(\"Age:\", student[\"age\"])\n",
        "print(\"University:\", student[\"university\"])\n",
        "print(\"CGPA:\", student[\"CGPA\"])"
      ],
      "metadata": {
        "colab": {
          "base_uri": "https://localhost:8080/"
        },
        "id": "Oezdj9SpNcyw",
        "outputId": "c8fca2fa-4403-4334-efc5-2743ca7d49d0"
      },
      "execution_count": null,
      "outputs": [
        {
          "output_type": "stream",
          "name": "stdout",
          "text": [
            "Name: upoma\n",
            "Age: 22\n",
            "University: BRUR\n",
            "CGPA: 3.63\n"
          ]
        }
      ]
    },
    {
      "cell_type": "markdown",
      "source": [
        "# **2.7 Create a tuple with the latitude and longitude of a famous place in Bangladesh**"
      ],
      "metadata": {
        "id": "14dcxt2jvtcR"
      }
    },
    {
      "cell_type": "code",
      "source": [
        "# Creating a tuple\n",
        "Kantijir_mondir = (\"25.7904 north\", \"88.6667 east\")\n",
        "# Accessing elements\n",
        "print(type(Kantijir_mondir))"
      ],
      "metadata": {
        "colab": {
          "base_uri": "https://localhost:8080/"
        },
        "id": "dSz8bUQ4N6ZK",
        "outputId": "f9b9c5ea-7a56-4610-f48b-27e97cab82c7"
      },
      "execution_count": null,
      "outputs": [
        {
          "output_type": "stream",
          "name": "stdout",
          "text": [
            "<class 'tuple'>\n"
          ]
        }
      ]
    },
    {
      "cell_type": "markdown",
      "source": [
        "# **2.8 Create two sets of colors and find their union and intersection**"
      ],
      "metadata": {
        "id": "Eduqo1vkxrK3"
      }
    },
    {
      "cell_type": "code",
      "source": [
        "# Tuple with two sets of colors\n",
        "color_1= {\"blue\",\"green\",\"red\"}\n",
        "color_2= {\"green\",\"pink\",\"white\"}\n",
        "union = color_1 | color_2\n",
        "intersection  = color_1 & color_2\n",
        "print(union)\n",
        "print(intersection )"
      ],
      "metadata": {
        "colab": {
          "base_uri": "https://localhost:8080/"
        },
        "id": "jpFbpxSUP3EO",
        "outputId": "2988f9f1-ee78-4247-904a-50de43fcffdb"
      },
      "execution_count": null,
      "outputs": [
        {
          "output_type": "stream",
          "name": "stdout",
          "text": [
            "{'green', 'red', 'blue', 'pink', 'white'}\n",
            "{'green'}\n"
          ]
        }
      ]
    },
    {
      "cell_type": "markdown",
      "source": [],
      "metadata": {
        "id": "muFZgJAx0Bnf"
      }
    },
    {
      "cell_type": "markdown",
      "source": [
        "## **Conditional**"
      ],
      "metadata": {
        "id": "WyPxn3niT-lj"
      }
    },
    {
      "cell_type": "markdown",
      "source": [
        "# **2.9 Write a program that checks if a number is positive, negative, or zero**\n"
      ],
      "metadata": {
        "id": "UB5Lip1i0ydw"
      }
    },
    {
      "cell_type": "code",
      "source": [
        "# Basic if-else\n",
        "num = int(input(\"Enter a number: \"))\n",
        "if num > 0:\n",
        "  print(\"Positive\")\n",
        "elif num < 0:\n",
        "  print(\"Negative\")\n",
        "else:\n",
        "  print(\"Zero\")\n",
        "print(f\"Your num is {num}\")"
      ],
      "metadata": {
        "colab": {
          "base_uri": "https://localhost:8080/"
        },
        "id": "T-AW8CYxR2gf",
        "outputId": "bdd9c62c-aae8-4984-b184-0d67e5d6ee67"
      },
      "execution_count": null,
      "outputs": [
        {
          "output_type": "stream",
          "name": "stdout",
          "text": [
            "Enter a number: 52\n",
            "Positive\n",
            "Your num is 52\n"
          ]
        }
      ]
    },
    {
      "cell_type": "markdown",
      "source": [
        "# **2.10 Write a program that checks eligibility for a discount (student AND under 25, OR senior over 60)**"
      ],
      "metadata": {
        "id": "UdEMmpMI1-zM"
      }
    },
    {
      "cell_type": "code",
      "source": [
        "# Write a program that checks eligibility for a discount (student AND under 25, OR senior over 60)\n",
        "\n",
        "# Get input from the user\n",
        "is_student_input = input(\"Are you a student? (yes/no): \").lower()\n",
        "age = int(input(\"Enter your age: \"))\n",
        "\n",
        "# Convert student input to a boolean\n",
        "is_student = is_student_input == 'yes'\n",
        "\n",
        "# Check for discount eligibility\n",
        "if (is_student and age < 25) or age > 60:\n",
        "  print(\"You are eligible for a discount!\")\n",
        "else:\n",
        "  print(\"You are not eligible for a discount.\")"
      ],
      "metadata": {
        "colab": {
          "base_uri": "https://localhost:8080/"
        },
        "id": "Cfc0dV2WTnt0",
        "outputId": "8ba2eb62-709b-477a-babc-85d5a8159fa0"
      },
      "execution_count": null,
      "outputs": [
        {
          "output_type": "stream",
          "name": "stdout",
          "text": [
            "Are you a student? (yes/no): yes\n",
            "Enter your age: 22\n",
            "You are eligible for a discount!\n"
          ]
        }
      ]
    },
    {
      "cell_type": "markdown",
      "source": [
        "## **Loop**"
      ],
      "metadata": {
        "id": "ntNY_yqXWxci"
      }
    },
    {
      "cell_type": "markdown",
      "source": [
        "# **2.11 Write a program that prints the first 10 even numbers using a for or while loop**"
      ],
      "metadata": {
        "id": "QM6RSEPT5GhM"
      }
    },
    {
      "cell_type": "code",
      "source": [
        "from ast import While\n",
        "# Looping through a list\n",
        "count=2\n",
        "while count < 10:\n",
        "  print(count)\n",
        "  count += 1\n",
        "print(count)"
      ],
      "metadata": {
        "colab": {
          "base_uri": "https://localhost:8080/"
        },
        "id": "C1p-4uQLW0ph",
        "outputId": "1e6a4377-81cf-4aca-bafc-2bd7bb329177"
      },
      "execution_count": null,
      "outputs": [
        {
          "output_type": "stream",
          "name": "stdout",
          "text": [
            "2\n",
            "3\n",
            "4\n",
            "5\n",
            "6\n",
            "7\n",
            "8\n",
            "9\n",
            "10\n"
          ]
        }
      ]
    },
    {
      "cell_type": "markdown",
      "source": [
        "# **2.12 Write a program that prints a simple number pyramid pattern using nested loops**"
      ],
      "metadata": {
        "id": "NT5USadw66ob"
      }
    },
    {
      "cell_type": "code",
      "source": [
        "rows = 6  # Number of rows in the pyramid\n",
        "\n",
        "for i in range(1, rows + 1):\n",
        "  for space in range(rows - i):\n",
        "    print(\" \", end=\"\") # This line prints spaces\n",
        "  # Inner loop to print numbers in each row\n",
        "  for j in range(1, i + 1):\n",
        "    print(j, end=\" \") # This line prints numbers followed by a space\n",
        "  print()  # Move to the next line after each row"
      ],
      "metadata": {
        "colab": {
          "base_uri": "https://localhost:8080/"
        },
        "id": "sLH-qPrObJ1e",
        "outputId": "9cfd7f42-e8b6-4e70-c9f1-20d24d8aa576"
      },
      "execution_count": null,
      "outputs": [
        {
          "output_type": "stream",
          "name": "stdout",
          "text": [
            "     1 \n",
            "    1 2 \n",
            "   1 2 3 \n",
            "  1 2 3 4 \n",
            " 1 2 3 4 5 \n",
            "1 2 3 4 5 6 \n"
          ]
        }
      ]
    },
    {
      "cell_type": "markdown",
      "source": [
        "## **Function**"
      ],
      "metadata": {
        "id": "wEIrckHKd_oY"
      }
    },
    {
      "cell_type": "markdown",
      "source": [
        "# **2.13 Create a function that converts temperature from Celsius to Fahrenheit using the formula: F = (C × 9/5) + 32**"
      ],
      "metadata": {
        "id": "K6RFvEk7-G9f"
      }
    },
    {
      "cell_type": "code",
      "source": [
        "# Create a function that converts temperature from Celsius to Fahrenheit using the formula: F = (C × 9/5) + 32\n",
        "def celsius_to_fahrenheit(celsius):\n",
        "  \"\"\"Converts Celsius to Fahrenheit.\"\"\"\n",
        "  fahrenheit = (celsius * 9/5) + 32\n",
        "  return fahrenheit\n",
        "\n",
        "# Get Celsius input from the user\n",
        "try:\n",
        "    celsius_input = float(input(\"Enter the temperature in Celsius: \"))\n",
        "    # Call the function and print the result\n",
        "    fahrenheit_output = celsius_to_fahrenheit(celsius_input)\n",
        "    print(f\"{celsius_input}°C is equal to {fahrenheit_output}°F\")\n",
        "except ValueError:\n",
        "    print(\"Invalid input. Please enter a number for the temperature.\")"
      ],
      "metadata": {
        "colab": {
          "base_uri": "https://localhost:8080/"
        },
        "id": "iyBrlNUBeDAO",
        "outputId": "fe465c15-71ce-4616-d949-707187809731"
      },
      "execution_count": null,
      "outputs": [
        {
          "output_type": "stream",
          "name": "stdout",
          "text": [
            "Enter the temperature in Celsius: 33\n",
            "33.0°C is equal to 91.4°F\n"
          ]
        }
      ]
    },
    {
      "cell_type": "markdown",
      "source": [
        "# **2.14 Create a function with default parameters that calculates the area of a rectangle**"
      ],
      "metadata": {
        "id": "DAW0oemOAobE"
      }
    },
    {
      "cell_type": "code",
      "source": [
        "def rectangle_area(length=5, width=10):\n",
        "  \"\"\"Calculates the area of a rectangle.\"\"\"\n",
        "  area = length * width\n",
        "  return area\n",
        "print(rectangle_area())"
      ],
      "metadata": {
        "colab": {
          "base_uri": "https://localhost:8080/"
        },
        "id": "5j44vDcUArEl",
        "outputId": "0aaea012-e7bc-41e6-8e1b-48aab7066119"
      },
      "execution_count": null,
      "outputs": [
        {
          "output_type": "stream",
          "name": "stdout",
          "text": [
            "50\n"
          ]
        }
      ]
    }
  ]
}